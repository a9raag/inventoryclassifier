{
 "cells": [
  {
   "cell_type": "code",
   "execution_count": 1,
   "metadata": {
    "collapsed": true,
    "deletable": true,
    "editable": true
   },
   "outputs": [],
   "source": [
    "## import libaries\n",
    "import pandas as pd\n",
    "import numpy as np\n",
    "import cv2\n",
    "import os, sys\n",
    "from tqdm import tqdm"
   ]
  },
  {
   "cell_type": "code",
   "execution_count": 2,
   "metadata": {
    "collapsed": false,
    "deletable": true,
    "editable": true
   },
   "outputs": [],
   "source": [
    "## load data\n",
    "train = pd.read_csv('../../data/train.csv')\n",
    "test = pd.read_csv('../../data/test.csv')"
   ]
  },
  {
   "cell_type": "code",
   "execution_count": 3,
   "metadata": {
    "collapsed": true,
    "deletable": true,
    "editable": true
   },
   "outputs": [],
   "source": [
    "# function to read image\n",
    "def read_img(img_path):\n",
    "    img = cv2.imread(img_path, cv2.IMREAD_COLOR)\n",
    "    img = cv2.resize(img, (224,224))\n",
    "    return img"
   ]
  },
  {
   "cell_type": "code",
   "execution_count": 4,
   "metadata": {
    "collapsed": true,
    "deletable": true,
    "editable": true
   },
   "outputs": [],
   "source": [
    "## set path for images\n",
    "TRAIN_PATH = '../../data/train_img/'\n",
    "TEST_PATH = '../../data/test_img/'"
   ]
  },
  {
   "cell_type": "code",
   "execution_count": 5,
   "metadata": {
    "collapsed": false,
    "deletable": true,
    "editable": true
   },
   "outputs": [
    {
     "name": "stderr",
     "output_type": "stream",
     "text": [
      "100%|██████████| 3215/3215 [00:10<00:00, 316.41it/s]\n",
      "100%|██████████| 1732/1732 [00:04<00:00, 360.49it/s]\n"
     ]
    }
   ],
   "source": [
    "# load data\n",
    "train_img, test_img = [],[]\n",
    "for img_path in tqdm(train['image_id'].values):\n",
    "    train_img.append(read_img(TRAIN_PATH + img_path + '.png'))\n",
    "\n",
    "for img_path in tqdm(test['image_id'].values):\n",
    "    test_img.append(read_img(TEST_PATH + img_path + '.png'))"
   ]
  },
  {
   "cell_type": "code",
   "execution_count": 6,
   "metadata": {
    "collapsed": true,
    "deletable": true,
    "editable": true
   },
   "outputs": [],
   "source": [
    "# normalize images\n",
    "x_train = np.array(train_img, np.float32) / 224.\n",
    "x_test = np.array(test_img, np.float32) / 224."
   ]
  },
  {
   "cell_type": "code",
   "execution_count": 7,
   "metadata": {
    "collapsed": true,
    "deletable": true,
    "editable": true
   },
   "outputs": [],
   "source": [
    "# target variable - encoding numeric value\n",
    "label_list = train['label'].tolist()\n",
    "Y_train = {k:v+1 for v,k in enumerate(set(label_list))}\n",
    "y_train = [Y_train[k] for k in label_list]   \n",
    "y_train = np.array(y_train)"
   ]
  },
  {
   "cell_type": "code",
   "execution_count": 8,
   "metadata": {
    "collapsed": false,
    "deletable": true,
    "editable": true
   },
   "outputs": [
    {
     "name": "stderr",
     "output_type": "stream",
     "text": [
      "Using TensorFlow backend.\n"
     ]
    }
   ],
   "source": [
    "from keras import applications\n",
    "from keras.models import Model\n",
    "from keras import optimizers\n",
    "from keras.models import Sequential\n",
    "from keras.layers import Dense, Dropout, Flatten\n",
    "from keras.layers import Conv2D, MaxPooling2D\n",
    "from keras.layers.normalization import BatchNormalization\n",
    "from keras.metrics import categorical_accuracy\n",
    "from keras.preprocessing.image import ImageDataGenerator\n",
    "from keras.callbacks import EarlyStopping\n",
    "from keras.utils import to_categorical\n",
    "from keras.preprocessing.image import ImageDataGenerator\n",
    "from keras.callbacks import ModelCheckpoint"
   ]
  },
  {
   "cell_type": "code",
   "execution_count": 9,
   "metadata": {
    "collapsed": true,
    "deletable": true,
    "editable": true
   },
   "outputs": [],
   "source": [
    "y_train = to_categorical(y_train)"
   ]
  },
  {
   "cell_type": "code",
   "execution_count": 43,
   "metadata": {
    "collapsed": false,
    "deletable": true,
    "editable": true
   },
   "outputs": [],
   "source": [
    "#Transfer learning with Inception V3 \n",
    "base_model = applications.VGG16(weights='imagenet', include_top=False, input_shape=(224, 224, 3))"
   ]
  },
  {
   "cell_type": "code",
   "execution_count": 47,
   "metadata": {
    "collapsed": false,
    "deletable": true,
    "editable": true
   },
   "outputs": [],
   "source": [
    "for layers in base_model.layers[:5]:\n",
    "    layers.trainble=False"
   ]
  },
  {
   "cell_type": "code",
   "execution_count": 49,
   "metadata": {
    "collapsed": false,
    "deletable": true,
    "editable": true,
    "scrolled": true
   },
   "outputs": [
    {
     "name": "stdout",
     "output_type": "stream",
     "text": [
      "_________________________________________________________________\n",
      "Layer (type)                 Output Shape              Param #   \n",
      "=================================================================\n",
      "input_3 (InputLayer)         (None, 224, 224, 3)       0         \n",
      "_________________________________________________________________\n",
      "block1_conv1 (Conv2D)        (None, 224, 224, 64)      1792      \n",
      "_________________________________________________________________\n",
      "block1_conv2 (Conv2D)        (None, 224, 224, 64)      36928     \n",
      "_________________________________________________________________\n",
      "block1_pool (MaxPooling2D)   (None, 112, 112, 64)      0         \n",
      "_________________________________________________________________\n",
      "block2_conv1 (Conv2D)        (None, 112, 112, 128)     73856     \n",
      "_________________________________________________________________\n",
      "block2_conv2 (Conv2D)        (None, 112, 112, 128)     147584    \n",
      "_________________________________________________________________\n",
      "block2_pool (MaxPooling2D)   (None, 56, 56, 128)       0         \n",
      "_________________________________________________________________\n",
      "block3_conv1 (Conv2D)        (None, 56, 56, 256)       295168    \n",
      "_________________________________________________________________\n",
      "block3_conv2 (Conv2D)        (None, 56, 56, 256)       590080    \n",
      "_________________________________________________________________\n",
      "block3_conv3 (Conv2D)        (None, 56, 56, 256)       590080    \n",
      "_________________________________________________________________\n",
      "block3_pool (MaxPooling2D)   (None, 28, 28, 256)       0         \n",
      "_________________________________________________________________\n",
      "block4_conv1 (Conv2D)        (None, 28, 28, 512)       1180160   \n",
      "_________________________________________________________________\n",
      "block4_conv2 (Conv2D)        (None, 28, 28, 512)       2359808   \n",
      "_________________________________________________________________\n",
      "block4_conv3 (Conv2D)        (None, 28, 28, 512)       2359808   \n",
      "_________________________________________________________________\n",
      "block4_pool (MaxPooling2D)   (None, 14, 14, 512)       0         \n",
      "_________________________________________________________________\n",
      "block5_conv1 (Conv2D)        (None, 14, 14, 512)       2359808   \n",
      "_________________________________________________________________\n",
      "block5_conv2 (Conv2D)        (None, 14, 14, 512)       2359808   \n",
      "_________________________________________________________________\n",
      "block5_conv3 (Conv2D)        (None, 14, 14, 512)       2359808   \n",
      "_________________________________________________________________\n",
      "block5_pool (MaxPooling2D)   (None, 7, 7, 512)         0         \n",
      "_________________________________________________________________\n",
      "sequential_7 (Sequential)    (None, 26)                5625786   \n",
      "=================================================================\n",
      "Total params: 20,340,474\n",
      "Trainable params: 20,340,474\n",
      "Non-trainable params: 0\n",
      "_________________________________________________________________\n"
     ]
    }
   ],
   "source": [
    "## set model architechture \n",
    "add_model = Sequential()\n",
    "add_model.add(Flatten(input_shape=base_model.output_shape[1:]))\n",
    "add_model.add(Dense(224, activation='relu'))\n",
    "add_model.add(Dropout(0.25))\n",
    "add_model.add(Dense(y_train.shape[1], activation='softmax'))\n",
    "\n",
    "model = Model(inputs=base_model.input, outputs=add_model(base_model.output))\n",
    "model.compile(loss='categorical_crossentropy', optimizer=optimizers.SGD(lr=1e-4, momentum=0.9, decay=1e-6,nesterov=True),\n",
    "              metrics=['accuracy'])\n",
    "\n",
    "model.summary()"
   ]
  },
  {
   "cell_type": "code",
   "execution_count": 50,
   "metadata": {
    "collapsed": false,
    "deletable": true,
    "editable": true
   },
   "outputs": [],
   "source": [
    "batch_size = 16  # tune it\n",
    "epochs = 70 # increase it\n",
    "\n",
    "train_datagen = ImageDataGenerator(\n",
    "        rotation_range=30,\n",
    "        width_shift_range=0.1,\n",
    "        height_shift_range=0.1, \n",
    "        horizontal_flip=True)\n",
    "train_datagen.fit(x_train)"
   ]
  },
  {
   "cell_type": "code",
   "execution_count": 51,
   "metadata": {
    "collapsed": false,
    "deletable": true,
    "editable": true
   },
   "outputs": [
    {
     "name": "stdout",
     "output_type": "stream",
     "text": [
      "Epoch 1/70\n"
     ]
    },
    {
     "name": "stderr",
     "output_type": "stream",
     "text": [
      "/usr/local/lib/python3.5/dist-packages/keras/callbacks.py:405: RuntimeWarning: Can save best model only with val_acc available, skipping.\n",
      "  'skipping.' % (self.monitor), RuntimeWarning)\n"
     ]
    },
    {
     "name": "stdout",
     "output_type": "stream",
     "text": [
      "349s - loss: 3.1412 - acc: 0.1016\n",
      "Epoch 2/70\n",
      "345s - loss: 2.6835 - acc: 0.2219\n",
      "Epoch 3/70\n",
      "344s - loss: 2.2556 - acc: 0.3266\n",
      "Epoch 4/70\n",
      "344s - loss: 1.8487 - acc: 0.4376\n",
      "Epoch 5/70\n",
      "349s - loss: 1.6019 - acc: 0.5239\n",
      "Epoch 6/70\n",
      "343s - loss: 1.3949 - acc: 0.5733\n",
      "Epoch 7/70\n",
      "338s - loss: 1.1518 - acc: 0.6405\n",
      "Epoch 8/70\n",
      "338s - loss: 1.0481 - acc: 0.6758\n",
      "Epoch 9/70\n",
      "338s - loss: 0.9401 - acc: 0.7099\n",
      "Epoch 10/70\n",
      "339s - loss: 0.8003 - acc: 0.7565\n",
      "Epoch 11/70\n",
      "338s - loss: 0.7221 - acc: 0.7677\n",
      "Epoch 12/70\n",
      "339s - loss: 0.6625 - acc: 0.7943\n",
      "Epoch 13/70\n",
      "339s - loss: 0.5845 - acc: 0.8136\n",
      "Epoch 14/70\n",
      "339s - loss: 0.5150 - acc: 0.8350\n",
      "Epoch 15/70\n",
      "347s - loss: 0.4635 - acc: 0.8490\n",
      "Epoch 16/70\n",
      "345s - loss: 0.4254 - acc: 0.8628\n",
      "Epoch 17/70\n",
      "340s - loss: 0.3730 - acc: 0.8734\n",
      "Epoch 18/70\n",
      "344s - loss: 0.3420 - acc: 0.8930\n",
      "Epoch 19/70\n",
      "344s - loss: 0.3094 - acc: 0.8994\n",
      "Epoch 20/70\n",
      "344s - loss: 0.2742 - acc: 0.9100\n",
      "Epoch 21/70\n",
      "340s - loss: 0.2656 - acc: 0.9075\n",
      "Epoch 22/70\n",
      "338s - loss: 0.2472 - acc: 0.9212\n",
      "Epoch 23/70\n",
      "338s - loss: 0.2065 - acc: 0.9359\n",
      "Epoch 24/70\n",
      "338s - loss: 0.1901 - acc: 0.9362\n",
      "Epoch 25/70\n",
      "340s - loss: 0.1965 - acc: 0.9375\n",
      "Epoch 26/70\n",
      "342s - loss: 0.1682 - acc: 0.9478\n",
      "Epoch 27/70\n",
      "341s - loss: 0.1340 - acc: 0.9559\n",
      "Epoch 28/70\n",
      "341s - loss: 0.1631 - acc: 0.9487\n",
      "Epoch 29/70\n",
      "341s - loss: 0.1400 - acc: 0.9509\n",
      "Epoch 30/70\n",
      "341s - loss: 0.1324 - acc: 0.9565\n",
      "Epoch 31/70\n",
      "341s - loss: 0.1204 - acc: 0.9619\n",
      "Epoch 32/70\n",
      "341s - loss: 0.0899 - acc: 0.9703\n",
      "Epoch 33/70\n",
      "341s - loss: 0.1228 - acc: 0.9619\n",
      "Epoch 34/70\n",
      "341s - loss: 0.1071 - acc: 0.9681\n",
      "Epoch 35/70\n",
      "341s - loss: 0.1016 - acc: 0.9662\n",
      "Epoch 36/70\n",
      "341s - loss: 0.0878 - acc: 0.9722\n",
      "Epoch 37/70\n",
      "341s - loss: 0.0845 - acc: 0.9709\n",
      "Epoch 38/70\n",
      "341s - loss: 0.1001 - acc: 0.9687\n",
      "Epoch 39/70\n",
      "341s - loss: 0.0720 - acc: 0.9759\n",
      "Epoch 40/70\n",
      "341s - loss: 0.0709 - acc: 0.9759\n",
      "Epoch 41/70\n",
      "341s - loss: 0.0626 - acc: 0.9812\n",
      "Epoch 42/70\n",
      "341s - loss: 0.0600 - acc: 0.9800\n",
      "Epoch 43/70\n",
      "341s - loss: 0.0628 - acc: 0.9812\n",
      "Epoch 44/70\n",
      "341s - loss: 0.0819 - acc: 0.9762\n",
      "Epoch 45/70\n",
      "341s - loss: 0.0703 - acc: 0.9772\n",
      "Epoch 46/70\n",
      "341s - loss: 0.0784 - acc: 0.9750\n",
      "Epoch 47/70\n",
      "341s - loss: 0.0754 - acc: 0.9747\n",
      "Epoch 48/70\n",
      "341s - loss: 0.0594 - acc: 0.9834\n",
      "Epoch 49/70\n",
      "341s - loss: 0.0446 - acc: 0.9856\n",
      "Epoch 50/70\n",
      "341s - loss: 0.0593 - acc: 0.9806\n",
      "Epoch 51/70\n",
      "341s - loss: 0.0418 - acc: 0.9847\n",
      "Epoch 52/70\n",
      "340s - loss: 0.0401 - acc: 0.9853\n",
      "Epoch 53/70\n",
      "341s - loss: 0.0382 - acc: 0.9875\n",
      "Epoch 54/70\n",
      "341s - loss: 0.0567 - acc: 0.9815\n",
      "Epoch 55/70\n",
      "341s - loss: 0.0470 - acc: 0.9856\n",
      "Epoch 56/70\n",
      "341s - loss: 0.0407 - acc: 0.9884\n",
      "Epoch 57/70\n",
      "341s - loss: 0.0369 - acc: 0.9887\n",
      "Epoch 58/70\n",
      "341s - loss: 0.0413 - acc: 0.9875\n",
      "Epoch 59/70\n",
      "341s - loss: 0.0509 - acc: 0.9831\n",
      "Epoch 60/70\n",
      "341s - loss: 0.0331 - acc: 0.9906\n",
      "Epoch 61/70\n",
      "341s - loss: 0.0338 - acc: 0.9881\n",
      "Epoch 62/70\n",
      "341s - loss: 0.0413 - acc: 0.9872\n",
      "Epoch 63/70\n",
      "341s - loss: 0.0370 - acc: 0.9897\n",
      "Epoch 64/70\n",
      "340s - loss: 0.0361 - acc: 0.9875\n",
      "Epoch 65/70\n",
      "341s - loss: 0.0340 - acc: 0.9887\n",
      "Epoch 66/70\n",
      "341s - loss: 0.0269 - acc: 0.9903\n",
      "Epoch 67/70\n",
      "341s - loss: 0.0336 - acc: 0.9894\n",
      "Epoch 68/70\n",
      "341s - loss: 0.0310 - acc: 0.9897\n",
      "Epoch 69/70\n",
      "340s - loss: 0.0226 - acc: 0.9944\n",
      "Epoch 70/70\n",
      "341s - loss: 0.0357 - acc: 0.9872\n"
     ]
    }
   ],
   "source": [
    "# Continuing after 24 epochs \n",
    "history = model.fit_generator(\n",
    "    train_datagen.flow(x_train, y_train, batch_size=batch_size),\n",
    "    steps_per_epoch=x_train.shape[0] // batch_size,\n",
    "    epochs=epochs,\n",
    "    callbacks=[ModelCheckpoint('VGG16-transferlearning.model', monitor='val_acc', save_best_only=True)],\n",
    "    verbose=2\n",
    ")"
   ]
  },
  {
   "cell_type": "code",
   "execution_count": 52,
   "metadata": {
    "collapsed": true,
    "deletable": true,
    "editable": true
   },
   "outputs": [],
   "source": [
    "## predict test data\n",
    "predictions = model.predict(x_test)\n"
   ]
  },
  {
   "cell_type": "code",
   "execution_count": 53,
   "metadata": {
    "collapsed": false,
    "deletable": true,
    "editable": true
   },
   "outputs": [],
   "source": [
    "# get labels\n",
    "predictions = np.argmax(predictions, axis=1)\n",
    "rev_y = {v:k for k,v in Y_train.items()}\n",
    "pred_labels = [rev_y[k] for k in predictions]"
   ]
  },
  {
   "cell_type": "code",
   "execution_count": 42,
   "metadata": {
    "collapsed": false,
    "deletable": true,
    "editable": true
   },
   "outputs": [],
   "source": [
    "## make submission\n",
    "# assert False \n",
    "# print(\"Don't forget to commit before this\")\n",
    "sub = pd.DataFrame({'image_id':test.image_id, 'label':pred_labels})\n",
    "sub.to_csv('sub_vgg_exp4_2disabled.csv', index=False) ## ~0.59"
   ]
  },
  {
   "cell_type": "code",
   "execution_count": null,
   "metadata": {
    "collapsed": true,
    "deletable": true,
    "editable": true
   },
   "outputs": [],
   "source": []
  }
 ],
 "metadata": {
  "kernelspec": {
   "display_name": "Python 3",
   "language": "python",
   "name": "python3"
  },
  "language_info": {
   "codemirror_mode": {
    "name": "ipython",
    "version": 3
   },
   "file_extension": ".py",
   "mimetype": "text/x-python",
   "name": "python",
   "nbconvert_exporter": "python",
   "pygments_lexer": "ipython3",
   "version": "3.5.2"
  }
 },
 "nbformat": 4,
 "nbformat_minor": 2
}
